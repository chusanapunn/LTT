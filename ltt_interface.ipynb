{
 "cells": [
  {
   "cell_type": "code",
   "execution_count": 1,
   "id": "7ca32357",
   "metadata": {},
   "outputs": [],
   "source": [
    "import streamlit as st\n",
    "import mlflow\n",
    "import dvc.api"
   ]
  },
  {
   "cell_type": "code",
   "execution_count": 11,
   "id": "d1bde101",
   "metadata": {},
   "outputs": [
    {
     "ename": "CloneError",
     "evalue": "SCM error",
     "output_type": "error",
     "traceback": [
      "\u001b[0;31m---------------------------------------------------------------------------\u001b[0m",
      "\u001b[0;31mNotGitRepository\u001b[0m                          Traceback (most recent call last)",
      "File \u001b[0;32m~/anaconda3/envs/lttenv/lib/python3.11/site-packages/scmrepo/git/backend/dulwich/__init__.py:260\u001b[0m, in \u001b[0;36mDulwichBackend.clone\u001b[0;34m(cls, url, to_path, shallow_branch, progress, bare, mirror)\u001b[0m\n\u001b[1;32m    259\u001b[0m \u001b[38;5;28;01melse\u001b[39;00m:\n\u001b[0;32m--> 260\u001b[0m     repo \u001b[38;5;241m=\u001b[39m clone_from()\n\u001b[1;32m    262\u001b[0m \u001b[38;5;28;01mwith\u001b[39;00m closing(repo):\n",
      "File \u001b[0;32m~/anaconda3/envs/lttenv/lib/python3.11/site-packages/dulwich/porcelain.py:546\u001b[0m, in \u001b[0;36mclone\u001b[0;34m(source, target, bare, checkout, errstream, outstream, origin, depth, branch, config, **kwargs)\u001b[0m\n\u001b[1;32m    544\u001b[0m (client, path) \u001b[38;5;241m=\u001b[39m get_transport_and_path(source, config\u001b[38;5;241m=\u001b[39mconfig, \u001b[38;5;241m*\u001b[39m\u001b[38;5;241m*\u001b[39mkwargs)\n\u001b[0;32m--> 546\u001b[0m \u001b[38;5;28;01mreturn\u001b[39;00m client\u001b[38;5;241m.\u001b[39mclone(\n\u001b[1;32m    547\u001b[0m     path,\n\u001b[1;32m    548\u001b[0m     target,\n\u001b[1;32m    549\u001b[0m     mkdir\u001b[38;5;241m=\u001b[39mmkdir,\n\u001b[1;32m    550\u001b[0m     bare\u001b[38;5;241m=\u001b[39mbare,\n\u001b[1;32m    551\u001b[0m     origin\u001b[38;5;241m=\u001b[39morigin,\n\u001b[1;32m    552\u001b[0m     checkout\u001b[38;5;241m=\u001b[39mcheckout,\n\u001b[1;32m    553\u001b[0m     branch\u001b[38;5;241m=\u001b[39mbranch,\n\u001b[1;32m    554\u001b[0m     progress\u001b[38;5;241m=\u001b[39merrstream\u001b[38;5;241m.\u001b[39mwrite,\n\u001b[1;32m    555\u001b[0m     depth\u001b[38;5;241m=\u001b[39mdepth,\n\u001b[1;32m    556\u001b[0m )\n",
      "File \u001b[0;32m~/anaconda3/envs/lttenv/lib/python3.11/site-packages/dulwich/client.py:753\u001b[0m, in \u001b[0;36mGitClient.clone\u001b[0;34m(self, path, target_path, mkdir, bare, origin, checkout, branch, progress, depth)\u001b[0m\n\u001b[1;32m    752\u001b[0m ref_message \u001b[38;5;241m=\u001b[39m \u001b[38;5;124mb\u001b[39m\u001b[38;5;124m\"\u001b[39m\u001b[38;5;124mclone: from \u001b[39m\u001b[38;5;124m\"\u001b[39m \u001b[38;5;241m+\u001b[39m encoded_path\n\u001b[0;32m--> 753\u001b[0m result \u001b[38;5;241m=\u001b[39m \u001b[38;5;28mself\u001b[39m\u001b[38;5;241m.\u001b[39mfetch(path, target, progress\u001b[38;5;241m=\u001b[39mprogress, depth\u001b[38;5;241m=\u001b[39mdepth)\n\u001b[1;32m    754\u001b[0m \u001b[38;5;28;01mif\u001b[39;00m origin \u001b[38;5;129;01mis\u001b[39;00m \u001b[38;5;129;01mnot\u001b[39;00m \u001b[38;5;28;01mNone\u001b[39;00m:\n",
      "File \u001b[0;32m~/anaconda3/envs/lttenv/lib/python3.11/site-packages/dulwich/client.py:1510\u001b[0m, in \u001b[0;36mLocalGitClient.fetch\u001b[0;34m(self, path, target, determine_wants, progress, depth)\u001b[0m\n\u001b[1;32m   1495\u001b[0m \u001b[38;5;250m\u001b[39m\u001b[38;5;124;03m\"\"\"Fetch into a target repository.\u001b[39;00m\n\u001b[1;32m   1496\u001b[0m \n\u001b[1;32m   1497\u001b[0m \u001b[38;5;124;03mArgs:\u001b[39;00m\n\u001b[0;32m   (...)\u001b[0m\n\u001b[1;32m   1508\u001b[0m \n\u001b[1;32m   1509\u001b[0m \u001b[38;5;124;03m\"\"\"\u001b[39;00m\n\u001b[0;32m-> 1510\u001b[0m \u001b[38;5;28;01mwith\u001b[39;00m \u001b[38;5;28mself\u001b[39m\u001b[38;5;241m.\u001b[39m_open_repo(path) \u001b[38;5;28;01mas\u001b[39;00m r:\n\u001b[1;32m   1511\u001b[0m     refs \u001b[38;5;241m=\u001b[39m r\u001b[38;5;241m.\u001b[39mfetch(\n\u001b[1;32m   1512\u001b[0m         target,\n\u001b[1;32m   1513\u001b[0m         determine_wants\u001b[38;5;241m=\u001b[39mdetermine_wants,\n\u001b[1;32m   1514\u001b[0m         progress\u001b[38;5;241m=\u001b[39mprogress,\n\u001b[1;32m   1515\u001b[0m         depth\u001b[38;5;241m=\u001b[39mdepth,\n\u001b[1;32m   1516\u001b[0m     )\n",
      "File \u001b[0;32m~/anaconda3/envs/lttenv/lib/python3.11/site-packages/dulwich/client.py:1432\u001b[0m, in \u001b[0;36mLocalGitClient._open_repo\u001b[0;34m(cls, path)\u001b[0m\n\u001b[1;32m   1431\u001b[0m     path \u001b[38;5;241m=\u001b[39m os\u001b[38;5;241m.\u001b[39mfsdecode(path)\n\u001b[0;32m-> 1432\u001b[0m \u001b[38;5;28;01mreturn\u001b[39;00m closing(Repo(path))\n",
      "File \u001b[0;32m~/anaconda3/envs/lttenv/lib/python3.11/site-packages/dulwich/repo.py:1155\u001b[0m, in \u001b[0;36mRepo.__init__\u001b[0;34m(self, root, object_store, bare)\u001b[0m\n\u001b[1;32m   1154\u001b[0m     \u001b[38;5;28;01melse\u001b[39;00m:\n\u001b[0;32m-> 1155\u001b[0m         \u001b[38;5;28;01mraise\u001b[39;00m NotGitRepository(\n\u001b[1;32m   1156\u001b[0m             \u001b[38;5;124m\"\u001b[39m\u001b[38;5;124mNo git repository was found at \u001b[39m\u001b[38;5;132;01m{path}\u001b[39;00m\u001b[38;5;124m\"\u001b[39m\u001b[38;5;241m.\u001b[39mformat(\u001b[38;5;241m*\u001b[39m\u001b[38;5;241m*\u001b[39m\u001b[38;5;28mdict\u001b[39m(path\u001b[38;5;241m=\u001b[39mroot))\n\u001b[1;32m   1157\u001b[0m         )\n\u001b[1;32m   1159\u001b[0m \u001b[38;5;28mself\u001b[39m\u001b[38;5;241m.\u001b[39mbare \u001b[38;5;241m=\u001b[39m bare\n",
      "\u001b[0;31mNotGitRepository\u001b[0m: No git repository was found at data/file.csv",
      "\nThe above exception was the direct cause of the following exception:\n",
      "\u001b[0;31mCloneError\u001b[0m                                Traceback (most recent call last)",
      "File \u001b[0;32m~/anaconda3/envs/lttenv/lib/python3.11/site-packages/dvc/scm.py:150\u001b[0m, in \u001b[0;36mclone\u001b[0;34m(url, to_path, **kwargs)\u001b[0m\n\u001b[1;32m    149\u001b[0m \u001b[38;5;28;01mtry\u001b[39;00m:\n\u001b[0;32m--> 150\u001b[0m     git \u001b[38;5;241m=\u001b[39m Git\u001b[38;5;241m.\u001b[39mclone(url, to_path, progress\u001b[38;5;241m=\u001b[39mpbar\u001b[38;5;241m.\u001b[39mupdate_git, \u001b[38;5;241m*\u001b[39m\u001b[38;5;241m*\u001b[39mkwargs)\n\u001b[1;32m    151\u001b[0m     \u001b[38;5;28;01mif\u001b[39;00m \u001b[38;5;124m\"\u001b[39m\u001b[38;5;124mshallow_branch\u001b[39m\u001b[38;5;124m\"\u001b[39m \u001b[38;5;129;01mnot\u001b[39;00m \u001b[38;5;129;01min\u001b[39;00m kwargs:\n",
      "File \u001b[0;32m~/anaconda3/envs/lttenv/lib/python3.11/site-packages/scmrepo/git/__init__.py:154\u001b[0m, in \u001b[0;36mGit.clone\u001b[0;34m(cls, url, to_path, rev, bare, mirror, **kwargs)\u001b[0m\n\u001b[1;32m    153\u001b[0m \u001b[38;5;28;01mtry\u001b[39;00m:\n\u001b[0;32m--> 154\u001b[0m     backend\u001b[38;5;241m.\u001b[39mclone(url, to_path, bare\u001b[38;5;241m=\u001b[39mbare, mirror\u001b[38;5;241m=\u001b[39mmirror, \u001b[38;5;241m*\u001b[39m\u001b[38;5;241m*\u001b[39mkwargs)\n\u001b[1;32m    155\u001b[0m     repo \u001b[38;5;241m=\u001b[39m \u001b[38;5;28mcls\u001b[39m(to_path)\n",
      "File \u001b[0;32m~/anaconda3/envs/lttenv/lib/python3.11/site-packages/scmrepo/git/backend/dulwich/__init__.py:268\u001b[0m, in \u001b[0;36mDulwichBackend.clone\u001b[0;34m(cls, url, to_path, shallow_branch, progress, bare, mirror)\u001b[0m\n\u001b[1;32m    267\u001b[0m \u001b[38;5;28;01mexcept\u001b[39;00m \u001b[38;5;167;01mException\u001b[39;00m \u001b[38;5;28;01mas\u001b[39;00m exc:  \u001b[38;5;66;03m# noqa: BLE001\u001b[39;00m\n\u001b[0;32m--> 268\u001b[0m     \u001b[38;5;28;01mraise\u001b[39;00m CloneError(url, os\u001b[38;5;241m.\u001b[39mfsdecode(to_path)) \u001b[38;5;28;01mfrom\u001b[39;00m \u001b[38;5;21;01mexc\u001b[39;00m\n",
      "\u001b[0;31mCloneError\u001b[0m: Failed to clone repo 'data/file.csv' to '/tmp/tmpoqu0nnc3dvc-clone'",
      "\nThe above exception was the direct cause of the following exception:\n",
      "\u001b[0;31mCloneError\u001b[0m                                Traceback (most recent call last)",
      "Cell \u001b[0;32mIn[11], line 41\u001b[0m\n\u001b[1;32m     23\u001b[0m \u001b[38;5;66;03m# Sidebar for selecting MLflow experiment and triggering DVC pipeline\u001b[39;00m\n\u001b[1;32m     24\u001b[0m \u001b[38;5;66;03m# selected_experiment = st.sidebar.selectbox(\"Select MLflow Experiment\", [experiment.name for experiment in mlflow.list_experiments()])\u001b[39;00m\n\u001b[1;32m     25\u001b[0m \u001b[38;5;66;03m# trigger_button = st.sidebar.button(\"Trigger DVC Pipeline\")\u001b[39;00m\n\u001b[0;32m   (...)\u001b[0m\n\u001b[1;32m     38\u001b[0m \n\u001b[1;32m     39\u001b[0m \u001b[38;5;66;03m# Display data fetched from DVC\u001b[39;00m\n\u001b[1;32m     40\u001b[0m \u001b[38;5;28;01mwith\u001b[39;00m st\u001b[38;5;241m.\u001b[39mexpander(\u001b[38;5;124m\"\u001b[39m\u001b[38;5;124mView Data from DVC\u001b[39m\u001b[38;5;124m\"\u001b[39m):\n\u001b[0;32m---> 41\u001b[0m     data \u001b[38;5;241m=\u001b[39m fetch_data()\n\u001b[1;32m     42\u001b[0m     st\u001b[38;5;241m.\u001b[39mwrite(data)\n",
      "Cell \u001b[0;32mIn[11], line 9\u001b[0m, in \u001b[0;36mfetch_data\u001b[0;34m()\u001b[0m\n\u001b[1;32m      8\u001b[0m \u001b[38;5;28;01mdef\u001b[39;00m \u001b[38;5;21mfetch_data\u001b[39m():\n\u001b[0;32m----> 9\u001b[0m     \u001b[38;5;28;01mwith\u001b[39;00m dvc\u001b[38;5;241m.\u001b[39mapi\u001b[38;5;241m.\u001b[39mopen(\n\u001b[1;32m     10\u001b[0m         \u001b[38;5;124m\"\u001b[39m\u001b[38;5;124myour/data/repo\u001b[39m\u001b[38;5;124m\"\u001b[39m,\n\u001b[1;32m     11\u001b[0m         \u001b[38;5;124m\"\u001b[39m\u001b[38;5;124mdata/file.csv\u001b[39m\u001b[38;5;124m\"\u001b[39m,\n\u001b[1;32m     12\u001b[0m         rev\u001b[38;5;241m=\u001b[39m\u001b[38;5;124m\"\u001b[39m\u001b[38;5;124mbranch_name_or_commit_hash\u001b[39m\u001b[38;5;124m\"\u001b[39m,\n\u001b[1;32m     13\u001b[0m         mode\u001b[38;5;241m=\u001b[39m\u001b[38;5;124m\"\u001b[39m\u001b[38;5;124mr\u001b[39m\u001b[38;5;124m\"\u001b[39m,\n\u001b[1;32m     14\u001b[0m     ) \u001b[38;5;28;01mas\u001b[39;00m f:\n\u001b[1;32m     15\u001b[0m         data \u001b[38;5;241m=\u001b[39m f\u001b[38;5;241m.\u001b[39mread()\n\u001b[1;32m     16\u001b[0m     \u001b[38;5;28;01mreturn\u001b[39;00m data\n",
      "File \u001b[0;32m~/anaconda3/envs/lttenv/lib/python3.11/contextlib.py:137\u001b[0m, in \u001b[0;36m_GeneratorContextManager.__enter__\u001b[0;34m(self)\u001b[0m\n\u001b[1;32m    135\u001b[0m \u001b[38;5;28;01mdel\u001b[39;00m \u001b[38;5;28mself\u001b[39m\u001b[38;5;241m.\u001b[39margs, \u001b[38;5;28mself\u001b[39m\u001b[38;5;241m.\u001b[39mkwds, \u001b[38;5;28mself\u001b[39m\u001b[38;5;241m.\u001b[39mfunc\n\u001b[1;32m    136\u001b[0m \u001b[38;5;28;01mtry\u001b[39;00m:\n\u001b[0;32m--> 137\u001b[0m     \u001b[38;5;28;01mreturn\u001b[39;00m \u001b[38;5;28mnext\u001b[39m(\u001b[38;5;28mself\u001b[39m\u001b[38;5;241m.\u001b[39mgen)\n\u001b[1;32m    138\u001b[0m \u001b[38;5;28;01mexcept\u001b[39;00m \u001b[38;5;167;01mStopIteration\u001b[39;00m:\n\u001b[1;32m    139\u001b[0m     \u001b[38;5;28;01mraise\u001b[39;00m \u001b[38;5;167;01mRuntimeError\u001b[39;00m(\u001b[38;5;124m\"\u001b[39m\u001b[38;5;124mgenerator didn\u001b[39m\u001b[38;5;124m'\u001b[39m\u001b[38;5;124mt yield\u001b[39m\u001b[38;5;124m\"\u001b[39m) \u001b[38;5;28;01mfrom\u001b[39;00m \u001b[38;5;28;01mNone\u001b[39;00m\n",
      "File \u001b[0;32m~/anaconda3/envs/lttenv/lib/python3.11/site-packages/dvc/api/data.py:276\u001b[0m, in \u001b[0;36m_open\u001b[0;34m(path, repo, rev, remote, mode, encoding, config, remote_config)\u001b[0m\n\u001b[1;32m    258\u001b[0m \u001b[38;5;28;01mdef\u001b[39;00m \u001b[38;5;21m_open\u001b[39m(\n\u001b[1;32m    259\u001b[0m     path,\n\u001b[1;32m    260\u001b[0m     repo\u001b[38;5;241m=\u001b[39m\u001b[38;5;28;01mNone\u001b[39;00m,\n\u001b[0;32m   (...)\u001b[0m\n\u001b[1;32m    266\u001b[0m     remote_config\u001b[38;5;241m=\u001b[39m\u001b[38;5;28;01mNone\u001b[39;00m,\n\u001b[1;32m    267\u001b[0m ):\n\u001b[1;32m    268\u001b[0m     repo_kwargs: \u001b[38;5;28mdict\u001b[39m[\u001b[38;5;28mstr\u001b[39m, Any] \u001b[38;5;241m=\u001b[39m {\n\u001b[1;32m    269\u001b[0m         \u001b[38;5;124m\"\u001b[39m\u001b[38;5;124msubrepos\u001b[39m\u001b[38;5;124m\"\u001b[39m: \u001b[38;5;28;01mTrue\u001b[39;00m,\n\u001b[1;32m    270\u001b[0m         \u001b[38;5;124m\"\u001b[39m\u001b[38;5;124muninitialized\u001b[39m\u001b[38;5;124m\"\u001b[39m: \u001b[38;5;28;01mTrue\u001b[39;00m,\n\u001b[0;32m   (...)\u001b[0m\n\u001b[1;32m    273\u001b[0m         \u001b[38;5;124m\"\u001b[39m\u001b[38;5;124mremote_config\u001b[39m\u001b[38;5;124m\"\u001b[39m: remote_config,\n\u001b[1;32m    274\u001b[0m     }\n\u001b[0;32m--> 276\u001b[0m     \u001b[38;5;28;01mwith\u001b[39;00m Repo\u001b[38;5;241m.\u001b[39mopen(repo, rev\u001b[38;5;241m=\u001b[39mrev, \u001b[38;5;241m*\u001b[39m\u001b[38;5;241m*\u001b[39mrepo_kwargs) \u001b[38;5;28;01mas\u001b[39;00m _repo:\n\u001b[1;32m    277\u001b[0m         \u001b[38;5;28;01mwith\u001b[39;00m _wrap_exceptions(_repo, path):\n\u001b[1;32m    278\u001b[0m             \u001b[38;5;28;01mimport\u001b[39;00m \u001b[38;5;21;01mos\u001b[39;00m\n",
      "File \u001b[0;32m~/anaconda3/envs/lttenv/lib/python3.11/site-packages/dvc/repo/__init__.py:297\u001b[0m, in \u001b[0;36mRepo.open\u001b[0;34m(url, *args, **kwargs)\u001b[0m\n\u001b[1;32m    293\u001b[0m \u001b[38;5;129m@staticmethod\u001b[39m\n\u001b[1;32m    294\u001b[0m \u001b[38;5;28;01mdef\u001b[39;00m \u001b[38;5;21mopen\u001b[39m(url: Optional[\u001b[38;5;28mstr\u001b[39m], \u001b[38;5;241m*\u001b[39margs, \u001b[38;5;241m*\u001b[39m\u001b[38;5;241m*\u001b[39mkwargs) \u001b[38;5;241m-\u001b[39m\u001b[38;5;241m>\u001b[39m \u001b[38;5;124m\"\u001b[39m\u001b[38;5;124mRepo\u001b[39m\u001b[38;5;124m\"\u001b[39m:\n\u001b[1;32m    295\u001b[0m     \u001b[38;5;28;01mfrom\u001b[39;00m \u001b[38;5;21;01m.\u001b[39;00m\u001b[38;5;21;01mopen_repo\u001b[39;00m \u001b[38;5;28;01mimport\u001b[39;00m open_repo\n\u001b[0;32m--> 297\u001b[0m     \u001b[38;5;28;01mreturn\u001b[39;00m open_repo(url, \u001b[38;5;241m*\u001b[39margs, \u001b[38;5;241m*\u001b[39m\u001b[38;5;241m*\u001b[39mkwargs)\n",
      "File \u001b[0;32m~/anaconda3/envs/lttenv/lib/python3.11/site-packages/dvc/repo/open_repo.py:60\u001b[0m, in \u001b[0;36mopen_repo\u001b[0;34m(url, *args, **kwargs)\u001b[0m\n\u001b[1;32m     57\u001b[0m     \u001b[38;5;28;01mexcept\u001b[39;00m NotDvcRepoError:\n\u001b[1;32m     58\u001b[0m         \u001b[38;5;28;01mpass\u001b[39;00m  \u001b[38;5;66;03m# fallthrough to _external_repo\u001b[39;00m\n\u001b[0;32m---> 60\u001b[0m \u001b[38;5;28;01mreturn\u001b[39;00m _external_repo(url, \u001b[38;5;241m*\u001b[39margs, \u001b[38;5;241m*\u001b[39m\u001b[38;5;241m*\u001b[39mkwargs)\n",
      "File \u001b[0;32m~/anaconda3/envs/lttenv/lib/python3.11/contextlib.py:81\u001b[0m, in \u001b[0;36mContextDecorator.__call__.<locals>.inner\u001b[0;34m(*args, **kwds)\u001b[0m\n\u001b[1;32m     78\u001b[0m \u001b[38;5;129m@wraps\u001b[39m(func)\n\u001b[1;32m     79\u001b[0m \u001b[38;5;28;01mdef\u001b[39;00m \u001b[38;5;21minner\u001b[39m(\u001b[38;5;241m*\u001b[39margs, \u001b[38;5;241m*\u001b[39m\u001b[38;5;241m*\u001b[39mkwds):\n\u001b[1;32m     80\u001b[0m     \u001b[38;5;28;01mwith\u001b[39;00m \u001b[38;5;28mself\u001b[39m\u001b[38;5;241m.\u001b[39m_recreate_cm():\n\u001b[0;32m---> 81\u001b[0m         \u001b[38;5;28;01mreturn\u001b[39;00m func(\u001b[38;5;241m*\u001b[39margs, \u001b[38;5;241m*\u001b[39m\u001b[38;5;241m*\u001b[39mkwds)\n",
      "File \u001b[0;32m~/anaconda3/envs/lttenv/lib/python3.11/site-packages/dvc/repo/open_repo.py:23\u001b[0m, in \u001b[0;36m_external_repo\u001b[0;34m(url, rev, **kwargs)\u001b[0m\n\u001b[1;32m     20\u001b[0m \u001b[38;5;129m@map_scm_exception\u001b[39m()\n\u001b[1;32m     21\u001b[0m \u001b[38;5;28;01mdef\u001b[39;00m \u001b[38;5;21m_external_repo\u001b[39m(url, rev: Optional[\u001b[38;5;28mstr\u001b[39m] \u001b[38;5;241m=\u001b[39m \u001b[38;5;28;01mNone\u001b[39;00m, \u001b[38;5;241m*\u001b[39m\u001b[38;5;241m*\u001b[39mkwargs) \u001b[38;5;241m-\u001b[39m\u001b[38;5;241m>\u001b[39m \u001b[38;5;124m\"\u001b[39m\u001b[38;5;124mRepo\u001b[39m\u001b[38;5;124m\"\u001b[39m:\n\u001b[1;32m     22\u001b[0m     logger\u001b[38;5;241m.\u001b[39mdebug(\u001b[38;5;124m\"\u001b[39m\u001b[38;5;124mCreating external repo \u001b[39m\u001b[38;5;132;01m%s\u001b[39;00m\u001b[38;5;124m@\u001b[39m\u001b[38;5;132;01m%s\u001b[39;00m\u001b[38;5;124m\"\u001b[39m, url, rev)\n\u001b[0;32m---> 23\u001b[0m     path \u001b[38;5;241m=\u001b[39m _cached_clone(url, rev)\n\u001b[1;32m     24\u001b[0m     \u001b[38;5;66;03m# Local HEAD points to the tip of whatever branch we first cloned from\u001b[39;00m\n\u001b[1;32m     25\u001b[0m     \u001b[38;5;66;03m# (which may not be the default branch), use origin/HEAD here to get\u001b[39;00m\n\u001b[1;32m     26\u001b[0m     \u001b[38;5;66;03m# the tip of the default branch\u001b[39;00m\n\u001b[1;32m     27\u001b[0m     rev \u001b[38;5;241m=\u001b[39m rev \u001b[38;5;129;01mor\u001b[39;00m \u001b[38;5;124m\"\u001b[39m\u001b[38;5;124mrefs/remotes/origin/HEAD\u001b[39m\u001b[38;5;124m\"\u001b[39m\n",
      "File \u001b[0;32m~/anaconda3/envs/lttenv/lib/python3.11/site-packages/dvc/repo/open_repo.py:134\u001b[0m, in \u001b[0;36m_cached_clone\u001b[0;34m(url, rev)\u001b[0m\n\u001b[1;32m    130\u001b[0m \u001b[38;5;28;01mfrom\u001b[39;00m \u001b[38;5;21;01mshutil\u001b[39;00m \u001b[38;5;28;01mimport\u001b[39;00m copytree\n\u001b[1;32m    132\u001b[0m \u001b[38;5;66;03m# even if we have already cloned this repo, we may need to\u001b[39;00m\n\u001b[1;32m    133\u001b[0m \u001b[38;5;66;03m# fetch/fast-forward to get specified rev\u001b[39;00m\n\u001b[0;32m--> 134\u001b[0m clone_path, shallow \u001b[38;5;241m=\u001b[39m _clone_default_branch(url, rev)\n\u001b[1;32m    136\u001b[0m \u001b[38;5;28;01mif\u001b[39;00m url \u001b[38;5;129;01min\u001b[39;00m CLONES:\n\u001b[1;32m    137\u001b[0m     \u001b[38;5;28;01mreturn\u001b[39;00m CLONES[url][\u001b[38;5;241m0\u001b[39m]\n",
      "File \u001b[0;32m~/anaconda3/envs/lttenv/lib/python3.11/site-packages/funcy/decorators.py:47\u001b[0m, in \u001b[0;36mmake_decorator.<locals>._decorator.<locals>.wrapper\u001b[0;34m(*args, **kwargs)\u001b[0m\n\u001b[1;32m     45\u001b[0m \u001b[38;5;28;01mdef\u001b[39;00m \u001b[38;5;21mwrapper\u001b[39m(\u001b[38;5;241m*\u001b[39margs, \u001b[38;5;241m*\u001b[39m\u001b[38;5;241m*\u001b[39mkwargs):\n\u001b[1;32m     46\u001b[0m     call \u001b[38;5;241m=\u001b[39m Call(func, args, kwargs)\n\u001b[0;32m---> 47\u001b[0m     \u001b[38;5;28;01mreturn\u001b[39;00m deco(call, \u001b[38;5;241m*\u001b[39mdargs, \u001b[38;5;241m*\u001b[39m\u001b[38;5;241m*\u001b[39mdkwargs)\n",
      "File \u001b[0;32m~/anaconda3/envs/lttenv/lib/python3.11/site-packages/funcy/flow.py:246\u001b[0m, in \u001b[0;36mwrap_with\u001b[0;34m(call, ctx)\u001b[0m\n\u001b[1;32m    244\u001b[0m \u001b[38;5;250m\u001b[39m\u001b[38;5;124;03m\"\"\"Turn context manager into a decorator\"\"\"\u001b[39;00m\n\u001b[1;32m    245\u001b[0m \u001b[38;5;28;01mwith\u001b[39;00m ctx:\n\u001b[0;32m--> 246\u001b[0m     \u001b[38;5;28;01mreturn\u001b[39;00m call()\n",
      "File \u001b[0;32m~/anaconda3/envs/lttenv/lib/python3.11/site-packages/funcy/decorators.py:68\u001b[0m, in \u001b[0;36mCall.__call__\u001b[0;34m(self, *a, **kw)\u001b[0m\n\u001b[1;32m     66\u001b[0m \u001b[38;5;28;01mdef\u001b[39;00m \u001b[38;5;21m__call__\u001b[39m(\u001b[38;5;28mself\u001b[39m, \u001b[38;5;241m*\u001b[39ma, \u001b[38;5;241m*\u001b[39m\u001b[38;5;241m*\u001b[39mkw):\n\u001b[1;32m     67\u001b[0m     \u001b[38;5;28;01mif\u001b[39;00m \u001b[38;5;129;01mnot\u001b[39;00m a \u001b[38;5;129;01mand\u001b[39;00m \u001b[38;5;129;01mnot\u001b[39;00m kw:\n\u001b[0;32m---> 68\u001b[0m         \u001b[38;5;28;01mreturn\u001b[39;00m \u001b[38;5;28mself\u001b[39m\u001b[38;5;241m.\u001b[39m_func(\u001b[38;5;241m*\u001b[39m\u001b[38;5;28mself\u001b[39m\u001b[38;5;241m.\u001b[39m_args, \u001b[38;5;241m*\u001b[39m\u001b[38;5;241m*\u001b[39m\u001b[38;5;28mself\u001b[39m\u001b[38;5;241m.\u001b[39m_kwargs)\n\u001b[1;32m     69\u001b[0m     \u001b[38;5;28;01melse\u001b[39;00m:\n\u001b[1;32m     70\u001b[0m         \u001b[38;5;28;01mreturn\u001b[39;00m \u001b[38;5;28mself\u001b[39m\u001b[38;5;241m.\u001b[39m_func(\u001b[38;5;241m*\u001b[39m(\u001b[38;5;28mself\u001b[39m\u001b[38;5;241m.\u001b[39m_args \u001b[38;5;241m+\u001b[39m a), \u001b[38;5;241m*\u001b[39m\u001b[38;5;241m*\u001b[39m\u001b[38;5;28mdict\u001b[39m(\u001b[38;5;28mself\u001b[39m\u001b[38;5;241m.\u001b[39m_kwargs, \u001b[38;5;241m*\u001b[39m\u001b[38;5;241m*\u001b[39mkw))\n",
      "File \u001b[0;32m~/anaconda3/envs/lttenv/lib/python3.11/site-packages/dvc/repo/open_repo.py:198\u001b[0m, in \u001b[0;36m_clone_default_branch\u001b[0;34m(url, rev)\u001b[0m\n\u001b[1;32m    196\u001b[0m             _remove(git_dir)\n\u001b[1;32m    197\u001b[0m \u001b[38;5;28;01mif\u001b[39;00m \u001b[38;5;129;01mnot\u001b[39;00m git:\n\u001b[0;32m--> 198\u001b[0m     git \u001b[38;5;241m=\u001b[39m clone(url, clone_path)\n\u001b[1;32m    199\u001b[0m     shallow \u001b[38;5;241m=\u001b[39m \u001b[38;5;28;01mFalse\u001b[39;00m\n\u001b[1;32m    200\u001b[0m CLONES[url] \u001b[38;5;241m=\u001b[39m (clone_path, shallow)\n",
      "File \u001b[0;32m~/anaconda3/envs/lttenv/lib/python3.11/site-packages/dvc/scm.py:155\u001b[0m, in \u001b[0;36mclone\u001b[0;34m(url, to_path, **kwargs)\u001b[0m\n\u001b[1;32m    153\u001b[0m     \u001b[38;5;28;01mreturn\u001b[39;00m git\n\u001b[1;32m    154\u001b[0m \u001b[38;5;28;01mexcept\u001b[39;00m InternalCloneError \u001b[38;5;28;01mas\u001b[39;00m exc:\n\u001b[0;32m--> 155\u001b[0m     \u001b[38;5;28;01mraise\u001b[39;00m CloneError(\u001b[38;5;124m\"\u001b[39m\u001b[38;5;124mSCM error\u001b[39m\u001b[38;5;124m\"\u001b[39m) \u001b[38;5;28;01mfrom\u001b[39;00m \u001b[38;5;21;01mexc\u001b[39;00m\n",
      "\u001b[0;31mCloneError\u001b[0m: SCM error"
     ]
    }
   ],
   "source": [
    "# Streamlit UI components\n",
    "st.title(\"Leftover Ingredients Recipe Agent\")\n",
    "\n",
    "# MLflow experiment tracking\n",
    "experiment_id = \"your_experiment_id\"\n",
    "\n",
    "# Function to fetch data from DVC\n",
    "def fetch_data():\n",
    "    with dvc.api.open(\n",
    "        \"your/data/repo\",\n",
    "        \"data/file.csv\",\n",
    "        rev=\"branch_name_or_commit_hash\",\n",
    "        mode=\"r\",\n",
    "    ) as f:\n",
    "        data = f.read()\n",
    "    return data\n",
    "\n",
    "# Function to trigger DVC pipeline\n",
    "def trigger_dvc_pipeline():\n",
    "    # Your code to trigger DVC pipeline\n",
    "    pass\n",
    "\n",
    "# Sidebar for selecting MLflow experiment and triggering DVC pipeline\n",
    "# selected_experiment = st.sidebar.selectbox(\"Select MLflow Experiment\", [experiment.name for experiment in mlflow.list_experiments()])\n",
    "# trigger_button = st.sidebar.button(\"Trigger DVC Pipeline\")\n",
    "\n",
    "# if trigger_button:\n",
    "#     trigger_dvc_pipeline()\n",
    "\n",
    "# Display MLflow experiment metrics\n",
    "# with st.expander(\"View Experiment Metrics\"):\n",
    "#     if selected_experiment:\n",
    "#         runs = mlflow.search_runs(experiment_ids=[experiment_id], filter_string=f\"tags.mlflow.runName='{selected_experiment}'\")\n",
    "#         for index, row in runs.iterrows():\n",
    "#             st.write(f\"Run ID: {row['run_id']}\")\n",
    "#             for metric_key, metric_value in row['metrics'].items():\n",
    "#                 st.write(f\"{metric_key}: {metric_value}\")\n",
    "\n",
    "# Display data fetched from DVC\n",
    "with st.expander(\"View Data from DVC\"):\n",
    "    data = fetch_data()\n",
    "    st.write(data)\n"
   ]
  },
  {
   "cell_type": "code",
   "execution_count": null,
   "id": "66c43a39",
   "metadata": {},
   "outputs": [],
   "source": []
  }
 ],
 "metadata": {
  "kernelspec": {
   "display_name": "Python [conda env:lttenv] *",
   "language": "python",
   "name": "conda-env-lttenv-py"
  },
  "language_info": {
   "codemirror_mode": {
    "name": "ipython",
    "version": 3
   },
   "file_extension": ".py",
   "mimetype": "text/x-python",
   "name": "python",
   "nbconvert_exporter": "python",
   "pygments_lexer": "ipython3",
   "version": "3.11.9"
  }
 },
 "nbformat": 4,
 "nbformat_minor": 5
}
