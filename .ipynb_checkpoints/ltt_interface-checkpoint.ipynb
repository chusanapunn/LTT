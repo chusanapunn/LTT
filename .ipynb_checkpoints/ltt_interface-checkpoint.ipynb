{
 "cells": [
  {
   "cell_type": "code",
   "execution_count": 1,
   "id": "7ca32357",
   "metadata": {},
   "outputs": [],
   "source": [
    "import streamlit as st\n",
    "import mlflow\n",
    "import dvc.api"
   ]
  },
  {
   "cell_type": "code",
   "execution_count": 10,
   "id": "3ae4cc41",
   "metadata": {},
   "outputs": [
    {
     "ename": "NameError",
     "evalue": "name 'selected_experiment' is not defined",
     "output_type": "error",
     "traceback": [
      "\u001b[0;31m---------------------------------------------------------------------------\u001b[0m",
      "\u001b[0;31mNameError\u001b[0m                                 Traceback (most recent call last)",
      "Cell \u001b[0;32mIn[10], line 32\u001b[0m\n\u001b[1;32m     23\u001b[0m \u001b[38;5;66;03m# Sidebar for selecting MLflow experiment and triggering DVC pipeline\u001b[39;00m\n\u001b[1;32m     24\u001b[0m \u001b[38;5;66;03m# selected_experiment = st.sidebar.selectbox(\"Select MLflow Experiment\", [experiment.name for experiment in mlflow.list_experiments()])\u001b[39;00m\n\u001b[1;32m     25\u001b[0m \u001b[38;5;66;03m# trigger_button = st.sidebar.button(\"Trigger DVC Pipeline\")\u001b[39;00m\n\u001b[0;32m   (...)\u001b[0m\n\u001b[1;32m     29\u001b[0m \n\u001b[1;32m     30\u001b[0m \u001b[38;5;66;03m# Display MLflow experiment metrics\u001b[39;00m\n\u001b[1;32m     31\u001b[0m \u001b[38;5;28;01mwith\u001b[39;00m st\u001b[38;5;241m.\u001b[39mexpander(\u001b[38;5;124m\"\u001b[39m\u001b[38;5;124mView Experiment Metrics\u001b[39m\u001b[38;5;124m\"\u001b[39m):\n\u001b[0;32m---> 32\u001b[0m     \u001b[38;5;28;01mif\u001b[39;00m selected_experiment:\n\u001b[1;32m     33\u001b[0m         runs \u001b[38;5;241m=\u001b[39m mlflow\u001b[38;5;241m.\u001b[39msearch_runs(experiment_ids\u001b[38;5;241m=\u001b[39m[experiment_id], filter_string\u001b[38;5;241m=\u001b[39m\u001b[38;5;124mf\u001b[39m\u001b[38;5;124m\"\u001b[39m\u001b[38;5;124mtags.mlflow.runName=\u001b[39m\u001b[38;5;124m'\u001b[39m\u001b[38;5;132;01m{\u001b[39;00mselected_experiment\u001b[38;5;132;01m}\u001b[39;00m\u001b[38;5;124m'\u001b[39m\u001b[38;5;124m\"\u001b[39m)\n\u001b[1;32m     34\u001b[0m         \u001b[38;5;28;01mfor\u001b[39;00m index, row \u001b[38;5;129;01min\u001b[39;00m runs\u001b[38;5;241m.\u001b[39miterrows():\n",
      "\u001b[0;31mNameError\u001b[0m: name 'selected_experiment' is not defined"
     ]
    }
   ],
   "source": [
    "# Streamlit UI components\n",
    "st.title(\"Leftover Ingredients Recipe Agent\")\n",
    "\n",
    "# MLflow experiment tracking\n",
    "experiment_id = \"your_experiment_id\"\n",
    "\n",
    "# Function to fetch data from DVC\n",
    "def fetch_data():\n",
    "    with dvc.api.open(\n",
    "        \"your/data/repo\",\n",
    "        \"data/file.csv\",\n",
    "        rev=\"branch_name_or_commit_hash\",\n",
    "        mode=\"r\",\n",
    "    ) as f:\n",
    "        data = f.read()\n",
    "    return data\n",
    "\n",
    "# Function to trigger DVC pipeline\n",
    "def trigger_dvc_pipeline():\n",
    "    # Your code to trigger DVC pipeline\n",
    "    pass\n",
    "\n",
    "# Sidebar for selecting MLflow experiment and triggering DVC pipeline\n",
    "# selected_experiment = st.sidebar.selectbox(\"Select MLflow Experiment\", [experiment.name for experiment in mlflow.list_experiments()])\n",
    "# trigger_button = st.sidebar.button(\"Trigger DVC Pipeline\")\n",
    "\n",
    "# if trigger_button:\n",
    "#     trigger_dvc_pipeline()\n",
    "\n",
    "# Display MLflow experiment metrics\n",
    "# with st.expander(\"View Experiment Metrics\"):\n",
    "#     if selected_experiment:\n",
    "#         runs = mlflow.search_runs(experiment_ids=[experiment_id], filter_string=f\"tags.mlflow.runName='{selected_experiment}'\")\n",
    "#         for index, row in runs.iterrows():\n",
    "#             st.write(f\"Run ID: {row['run_id']}\")\n",
    "#             for metric_key, metric_value in row['metrics'].items():\n",
    "#                 st.write(f\"{metric_key}: {metric_value}\")\n",
    "\n",
    "# Display data fetched from DVC\n",
    "with st.expander(\"View Data from DVC\"):\n",
    "    data = fetch_data()\n",
    "    st.write(data)\n"
   ]
  },
  {
   "cell_type": "code",
   "execution_count": 4,
   "id": "6216587d",
   "metadata": {},
   "outputs": [
    {
     "ename": "AttributeError",
     "evalue": "module 'mlflow' has no attribute 'list_experiments'",
     "output_type": "error",
     "traceback": [
      "\u001b[0;31m---------------------------------------------------------------------------\u001b[0m",
      "\u001b[0;31mAttributeError\u001b[0m                            Traceback (most recent call last)",
      "Cell \u001b[0;32mIn[4], line 2\u001b[0m\n\u001b[1;32m      1\u001b[0m \u001b[38;5;66;03m# Sidebar for selecting MLflow experiment and triggering DVC pipeline\u001b[39;00m\n\u001b[0;32m----> 2\u001b[0m selected_experiment \u001b[38;5;241m=\u001b[39m st\u001b[38;5;241m.\u001b[39msidebar\u001b[38;5;241m.\u001b[39mselectbox(\u001b[38;5;124m\"\u001b[39m\u001b[38;5;124mSelect MLflow Experiment\u001b[39m\u001b[38;5;124m\"\u001b[39m, [experiment\u001b[38;5;241m.\u001b[39mname \u001b[38;5;28;01mfor\u001b[39;00m experiment \u001b[38;5;129;01min\u001b[39;00m mlflow\u001b[38;5;241m.\u001b[39mlist_experiments()])\n\u001b[1;32m      3\u001b[0m trigger_button \u001b[38;5;241m=\u001b[39m st\u001b[38;5;241m.\u001b[39msidebar\u001b[38;5;241m.\u001b[39mbutton(\u001b[38;5;124m\"\u001b[39m\u001b[38;5;124mTrigger DVC Pipeline\u001b[39m\u001b[38;5;124m\"\u001b[39m)\n\u001b[1;32m      5\u001b[0m \u001b[38;5;28;01mif\u001b[39;00m trigger_button:\n",
      "\u001b[0;31mAttributeError\u001b[0m: module 'mlflow' has no attribute 'list_experiments'"
     ]
    }
   ],
   "source": []
  },
  {
   "cell_type": "code",
   "execution_count": null,
   "id": "d810939c",
   "metadata": {},
   "outputs": [],
   "source": []
  }
 ],
 "metadata": {
  "kernelspec": {
   "display_name": "Python [conda env:lttenv] *",
   "language": "python",
   "name": "conda-env-lttenv-py"
  },
  "language_info": {
   "codemirror_mode": {
    "name": "ipython",
    "version": 3
   },
   "file_extension": ".py",
   "mimetype": "text/x-python",
   "name": "python",
   "nbconvert_exporter": "python",
   "pygments_lexer": "ipython3",
   "version": "3.11.9"
  }
 },
 "nbformat": 4,
 "nbformat_minor": 5
}
